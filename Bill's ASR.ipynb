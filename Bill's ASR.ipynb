{
 "cells": [
  {
   "cell_type": "code",
   "execution_count": null,
   "metadata": {},
   "outputs": [],
   "source": [
    "# Install the transformers library to access pre-trained models\n",
    "!pip install transformers\n",
    "\n",
    "# Import the necessary libraries and set up the automatic speech recognition (ASR) pipeline\n",
    "from transformers import pipeline\n",
    "from google.colab import drive\n",
    "from glob import glob\n",
    "import numpy as np  # Manages your Array operations\n",
    "import pandas as pd\n",
    "from tqdm import tqdm\n",
    "from IPython.display import Audio\n",
    "\n",
    "# Set up the ASR pipeline using a Swahili model\n",
    "pipe = pipeline(\"automatic-speech-recognition\", model=\"Akashpb13/Swahili_xlsr\", device=0)\n",
    "\n",
    "# Mount Google Drive to access your files\n",
    "drive.mount('/content/drive')\n",
    "\n",
    "# Read the CSV file containing information about the audio files\n",
    "test = pd.read_csv('/content/drive/MyDrive/Models/SampleSubmission.csv')\n",
    "\n",
    "# Extract information about the first few rows of the DataFrame\n",
    "test.head()\n"
   ]
  },
  {
   "cell_type": "code",
   "execution_count": null,
   "metadata": {},
   "outputs": [],
   "source": [
    "# Extract the audio files from the compressed archive\n",
    "!tar xf \"/content/drive/MyDrive/ASR/test0.tar.gz\"\n",
    "\n",
    "# Display an audio file using IPython's Audio widget\n",
    "Audio(\"/content/test/common_voice_sw_27729935.mp3\")\n"
   ]
  },
  {
   "cell_type": "code",
   "execution_count": null,
   "metadata": {},
   "outputs": [],
   "source": [
    "# Ignore warnings for cleaner output\n",
    "import warnings\n",
    "warnings.filterwarnings('ignore')\n",
    "\n",
    "# Use the ASR pipeline to transcribe a single audio file\n",
    "pipe(\"/content/test/common_voice_sw_27729935.mp3\")\n"
   ]
  },
  {
   "cell_type": "code",
   "execution_count": null,
   "metadata": {},
   "outputs": [],
   "source": [
    "# Create a new column in the DataFrame to store the modified file paths\n",
    "test[\"my_path\"] = [\"/content/test/\" + i for i in test.path]\n",
    "\n",
    "# Display the updated DataFrame\n",
    "test\n"
   ]
  },
  {
   "cell_type": "code",
   "execution_count": null,
   "metadata": {},
   "outputs": [],
   "source": [
    "# Use the ASR pipeline to transcribe multiple audio files\n",
    "pipe([\"/content/test/common_voice_sw_27729935.mp3\", \"/content/test/common_voice_sw_35780884.mp3\", \"/content/test/common_voice_sw_36450168.mp3\"])\n"
   ]
  },
  {
   "cell_type": "code",
   "execution_count": null,
   "metadata": {},
   "outputs": [],
   "source": [
    "# Store the results in a DataFrame\n",
    "results = pipe(test.my_path.to_list())\n",
    "result_list = [i[\"text\"] for i in results]  # Extract the transcribed text\n",
    "\n",
    "# Display the first 3 transcribed samples\n",
    "result_list[:3]\n"
   ]
  },
  {
   "cell_type": "code",
   "execution_count": null,
   "metadata": {},
   "outputs": [],
   "source": [
    "# Create a submission DataFrame\n",
    "sub = pd.DataFrame()\n",
    "sub[\"path\"] = test.path.to_list()\n",
    "sub[\"sentence\"] = result_list\n",
    "\n",
    "# Save the submission to a CSV file\n",
    "sub.to_csv(\"Bill's Submission no 3.csv\", index=False)\n",
    "\n",
    "# Display the first few rows of the submission DataFrame\n",
    "sub.head()\n"
   ]
  },
  {
   "cell_type": "code",
   "execution_count": null,
   "metadata": {},
   "outputs": [],
   "source": [
    "# Perform ASR predictions on the entire dataset\n",
    "res = []\n",
    "for path in tqdm(test.path):\n",
    "    res.append(pipe(f'/content/drive/MyDrive/asr/test_audios/{path}')['text'])\n",
    "\n",
    "# Update the test DataFrame with the transcribed sentences\n",
    "test['sentence'] = res\n",
    "\n",
    "# Save the DataFrame to a CSV file for further analysis\n",
    "test[['audio_ID', 'sentence']].to_csv('/content/drive/MyDrive/asr/res.csv', index=False)\n",
    "\n",
    "# Display the updated test DataFrame\n",
    "test\n"
   ]
  },
  {
   "cell_type": "code",
   "execution_count": null,
   "metadata": {},
   "outputs": [],
   "source": []
  }
 ],
 "metadata": {
  "language_info": {
   "name": "python"
  }
 },
 "nbformat": 4,
 "nbformat_minor": 2
}
